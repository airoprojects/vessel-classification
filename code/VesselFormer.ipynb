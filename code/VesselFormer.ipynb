{
  "nbformat": 4,
  "nbformat_minor": 0,
  "metadata": {
    "colab": {
      "provenance": [],
      "include_colab_link": true
    },
    "kernelspec": {
      "name": "python3",
      "display_name": "Python 3"
    },
    "language_info": {
      "name": "python"
    }
  },
  "cells": [
    {
      "cell_type": "markdown",
      "metadata": {
        "id": "view-in-github",
        "colab_type": "text"
      },
      "source": [
        "<a href=\"https://colab.research.google.com/github/airoprojects/vessel-classification/blob/main/code/VesselFormer.ipynb\" target=\"_parent\"><img src=\"https://colab.research.google.com/assets/colab-badge.svg\" alt=\"Open In Colab\"/></a>"
      ]
    },
    {
      "cell_type": "code",
      "source": [
        "!pip install gdown"
      ],
      "metadata": {
        "colab": {
          "base_uri": "https://localhost:8080/"
        },
        "id": "5xvqYonbRPbF",
        "outputId": "4b885a5a-d6e9-4e4d-aec7-dff7209ff770"
      },
      "execution_count": 1,
      "outputs": [
        {
          "output_type": "stream",
          "name": "stdout",
          "text": [
            "Requirement already satisfied: gdown in /usr/local/lib/python3.10/dist-packages (4.7.3)\n",
            "Requirement already satisfied: filelock in /usr/local/lib/python3.10/dist-packages (from gdown) (3.13.1)\n",
            "Requirement already satisfied: requests[socks] in /usr/local/lib/python3.10/dist-packages (from gdown) (2.31.0)\n",
            "Requirement already satisfied: six in /usr/local/lib/python3.10/dist-packages (from gdown) (1.16.0)\n",
            "Requirement already satisfied: tqdm in /usr/local/lib/python3.10/dist-packages (from gdown) (4.66.2)\n",
            "Requirement already satisfied: beautifulsoup4 in /usr/local/lib/python3.10/dist-packages (from gdown) (4.12.3)\n",
            "Requirement already satisfied: soupsieve>1.2 in /usr/local/lib/python3.10/dist-packages (from beautifulsoup4->gdown) (2.5)\n",
            "Requirement already satisfied: charset-normalizer<4,>=2 in /usr/local/lib/python3.10/dist-packages (from requests[socks]->gdown) (3.3.2)\n",
            "Requirement already satisfied: idna<4,>=2.5 in /usr/local/lib/python3.10/dist-packages (from requests[socks]->gdown) (3.6)\n",
            "Requirement already satisfied: urllib3<3,>=1.21.1 in /usr/local/lib/python3.10/dist-packages (from requests[socks]->gdown) (2.0.7)\n",
            "Requirement already satisfied: certifi>=2017.4.17 in /usr/local/lib/python3.10/dist-packages (from requests[socks]->gdown) (2024.2.2)\n",
            "Requirement already satisfied: PySocks!=1.5.7,>=1.5.6 in /usr/local/lib/python3.10/dist-packages (from requests[socks]->gdown) (1.7.1)\n"
          ]
        }
      ]
    },
    {
      "cell_type": "markdown",
      "source": [],
      "metadata": {
        "id": "wpCK2KMlXK5p"
      }
    },
    {
      "cell_type": "code",
      "source": [
        "!pip install --upgrade gdown"
      ],
      "metadata": {
        "colab": {
          "base_uri": "https://localhost:8080/"
        },
        "id": "0-6kMxXdXLJH",
        "outputId": "8592a5a8-8a03-416f-ecd2-e44204ebdbf9"
      },
      "execution_count": 2,
      "outputs": [
        {
          "output_type": "stream",
          "name": "stdout",
          "text": [
            "Requirement already satisfied: gdown in /usr/local/lib/python3.10/dist-packages (4.7.3)\n",
            "Collecting gdown\n",
            "  Downloading gdown-5.1.0-py3-none-any.whl (17 kB)\n",
            "Requirement already satisfied: beautifulsoup4 in /usr/local/lib/python3.10/dist-packages (from gdown) (4.12.3)\n",
            "Requirement already satisfied: filelock in /usr/local/lib/python3.10/dist-packages (from gdown) (3.13.1)\n",
            "Requirement already satisfied: requests[socks] in /usr/local/lib/python3.10/dist-packages (from gdown) (2.31.0)\n",
            "Requirement already satisfied: tqdm in /usr/local/lib/python3.10/dist-packages (from gdown) (4.66.2)\n",
            "Requirement already satisfied: soupsieve>1.2 in /usr/local/lib/python3.10/dist-packages (from beautifulsoup4->gdown) (2.5)\n",
            "Requirement already satisfied: charset-normalizer<4,>=2 in /usr/local/lib/python3.10/dist-packages (from requests[socks]->gdown) (3.3.2)\n",
            "Requirement already satisfied: idna<4,>=2.5 in /usr/local/lib/python3.10/dist-packages (from requests[socks]->gdown) (3.6)\n",
            "Requirement already satisfied: urllib3<3,>=1.21.1 in /usr/local/lib/python3.10/dist-packages (from requests[socks]->gdown) (2.0.7)\n",
            "Requirement already satisfied: certifi>=2017.4.17 in /usr/local/lib/python3.10/dist-packages (from requests[socks]->gdown) (2024.2.2)\n",
            "Requirement already satisfied: PySocks!=1.5.7,>=1.5.6 in /usr/local/lib/python3.10/dist-packages (from requests[socks]->gdown) (1.7.1)\n",
            "Installing collected packages: gdown\n",
            "  Attempting uninstall: gdown\n",
            "    Found existing installation: gdown 4.7.3\n",
            "    Uninstalling gdown-4.7.3:\n",
            "      Successfully uninstalled gdown-4.7.3\n",
            "Successfully installed gdown-5.1.0\n"
          ]
        }
      ]
    },
    {
      "cell_type": "code",
      "execution_count": 3,
      "metadata": {
        "id": "MiOYxiIBQoDQ"
      },
      "outputs": [],
      "source": [
        "import gdown\n"
      ]
    },
    {
      "cell_type": "code",
      "source": [
        "# https://drive.google.com/drive/u/0/folders/1o34kRpwSsGAXhDw4K8eOXHce6JTIOQ18\n",
        "file_id = \"\"  # Replace this with your file's ID\n",
        "output_file = \"data_file.zip\"  # Replace \"data_file.ext\" with the desired output filename and extension\n",
        "gdown.download(f\"https://drive.google.com/file/d/1CUgpKZlo9NrA4ILmA1Zna89rveK7M9Ks/view?usp=sharing\", output_file)\n",
        "# https://drive.google.com/file/d/1CUgpKZlo9NrA4ILmA1Zna89rveK7M9Ks/view?usp=drive_link\n",
        "# https://drive.google.com/file/d/1CUgpKZlo9NrA4ILmA1Zna89rveK7M9Ks/view?usp=sharing\n",
        "'https://drive.google.com/file/d/1CUgpKZlo9NrA4ILmA1Zna89rveK7M9Ks/view?usp=sharing'\n"
      ],
      "metadata": {
        "colab": {
          "base_uri": "https://localhost:8080/",
          "height": 162
        },
        "id": "c7UUe1DyQ4gF",
        "outputId": "e24520ec-9c75-4149-f19c-2817ef98e051"
      },
      "execution_count": 4,
      "outputs": [
        {
          "output_type": "stream",
          "name": "stderr",
          "text": [
            "/usr/local/lib/python3.10/dist-packages/gdown/parse_url.py:48: UserWarning: You specified a Google Drive link that is not the correct link to download a file. You might want to try `--fuzzy` option or the following url: https://drive.google.com/uc?id=1CUgpKZlo9NrA4ILmA1Zna89rveK7M9Ks\n",
            "  warnings.warn(\n",
            "Downloading...\n",
            "From: https://drive.google.com/file/d/1CUgpKZlo9NrA4ILmA1Zna89rveK7M9Ks/view?usp=sharing\n",
            "To: /content/data_file.zip\n",
            "84.5kB [00:00, 29.1MB/s]\n"
          ]
        },
        {
          "output_type": "execute_result",
          "data": {
            "text/plain": [
              "'https://drive.google.com/file/d/1CUgpKZlo9NrA4ILmA1Zna89rveK7M9Ks/view?usp=sharing'"
            ],
            "application/vnd.google.colaboratory.intrinsic+json": {
              "type": "string"
            }
          },
          "metadata": {},
          "execution_count": 4
        }
      ]
    },
    {
      "cell_type": "code",
      "source": [
        "https://drive.google.com/file/d/1RYCJyMXccTWCDMN8c_xrZMXu47gaSpvg/view?usp=sharing"
      ],
      "metadata": {
        "id": "-W75FUs4d2Hm",
        "colab": {
          "base_uri": "https://localhost:8080/",
          "height": 108
        },
        "outputId": "f13ad1a5-06ae-437c-f214-1a5427073c2d"
      },
      "execution_count": 5,
      "outputs": [
        {
          "output_type": "error",
          "ename": "SyntaxError",
          "evalue": "invalid decimal literal (<ipython-input-5-a7e31239f9a5>, line 1)",
          "traceback": [
            "\u001b[0;36m  File \u001b[0;32m\"<ipython-input-5-a7e31239f9a5>\"\u001b[0;36m, line \u001b[0;32m1\u001b[0m\n\u001b[0;31m    https://drive.google.com/file/d/1RYCJyMXccTWCDMN8c_xrZMXu47gaSpvg/view?usp=sharing\u001b[0m\n\u001b[0m                                    ^\u001b[0m\n\u001b[0;31mSyntaxError\u001b[0m\u001b[0;31m:\u001b[0m invalid decimal literal\n"
          ]
        }
      ]
    },
    {
      "cell_type": "code",
      "source": [
        "# https://drive.google.com/drive/u/0/folders/1o34kRpwSsGAXhDw4K8eOXHce6JTIOQ18\n",
        "output_file = \"single.zip\"  # Replace \"data_file.ext\" with the desired output filename and extension\n",
        "gdown.download('https://drive.google.com/uc?id=1nzSdInny5VCi7PPT5EjsB8i1_QLbeOMu', output_file)"
      ],
      "metadata": {
        "colab": {
          "base_uri": "https://localhost:8080/",
          "height": 144
        },
        "id": "skEXa-CDdyB7",
        "outputId": "44e0d042-fe38-4c9d-df02-c392b8537673"
      },
      "execution_count": 6,
      "outputs": [
        {
          "output_type": "stream",
          "name": "stderr",
          "text": [
            "Downloading...\n",
            "From (original): https://drive.google.com/uc?id=1nzSdInny5VCi7PPT5EjsB8i1_QLbeOMu\n",
            "From (redirected): https://drive.usercontent.google.com/download?id=1nzSdInny5VCi7PPT5EjsB8i1_QLbeOMu&confirm=t&uuid=0781b24e-7097-476d-8dda-7011efc9d6a9\n",
            "To: /content/single.zip\n",
            "100%|██████████| 623M/623M [00:07<00:00, 78.5MB/s]\n"
          ]
        },
        {
          "output_type": "execute_result",
          "data": {
            "text/plain": [
              "'single.zip'"
            ],
            "application/vnd.google.colaboratory.intrinsic+json": {
              "type": "string"
            }
          },
          "metadata": {},
          "execution_count": 6
        }
      ]
    },
    {
      "cell_type": "code",
      "source": [
        "# https://drive.google.com/file/d/1RYCJyMXccTWCDMN8c_xrZMXu47gaSpvg/view?usp=sharing\n",
        "file_id = \"\"  # Replace this with your file's ID\n",
        "output_file = \"bifurcating.zip\"  # Replace \"data_file.ext\" with the desired output filename and extension\n",
        "gdown.download('https://drive.google.com/uc?id=1RYCJyMXccTWCDMN8c_xrZMXu47gaSpvg', output_file)"
      ],
      "metadata": {
        "colab": {
          "base_uri": "https://localhost:8080/",
          "height": 144
        },
        "id": "CO7EsYylebao",
        "outputId": "05d49769-331a-4672-9dd2-f82afa93279f"
      },
      "execution_count": 7,
      "outputs": [
        {
          "output_type": "stream",
          "name": "stderr",
          "text": [
            "Downloading...\n",
            "From (original): https://drive.google.com/uc?id=1RYCJyMXccTWCDMN8c_xrZMXu47gaSpvg\n",
            "From (redirected): https://drive.usercontent.google.com/download?id=1RYCJyMXccTWCDMN8c_xrZMXu47gaSpvg&confirm=t&uuid=4efd84f5-36f5-4540-8902-7f370006ea5b\n",
            "To: /content/bifurcating.zip\n",
            "100%|██████████| 1.18G/1.18G [00:13<00:00, 90.7MB/s]\n"
          ]
        },
        {
          "output_type": "execute_result",
          "data": {
            "text/plain": [
              "'bifurcating.zip'"
            ],
            "application/vnd.google.colaboratory.intrinsic+json": {
              "type": "string"
            }
          },
          "metadata": {},
          "execution_count": 7
        }
      ]
    },
    {
      "cell_type": "code",
      "source": [
        "url = \"https://drive.google.com/drive/folders/1ebPXX8c9Du2ISMj5aGM98llI93vFMUnm?usp=drive_link\"\n",
        "gdown.download_folder(url)"
      ],
      "metadata": {
        "colab": {
          "base_uri": "https://localhost:8080/",
          "height": 651
        },
        "id": "gppzd3FFRvSp",
        "outputId": "1e49086e-02e4-442f-ae8c-ba1eb40e41db"
      },
      "execution_count": null,
      "outputs": [
        {
          "output_type": "stream",
          "name": "stderr",
          "text": [
            "Retrieving folder list\n"
          ]
        },
        {
          "output_type": "stream",
          "name": "stdout",
          "text": [
            "Retrieving folder 1xgPLWb8X_ve-wfi0KQouaidwR5rsnBCW bifurcating\n",
            "Retrieving folder 1YErsquyI-wLSDWQwTYPJhWchc-Qx968T raw\n",
            "Processing file 1fth4mpP4gBKQq9CPseAIzz2F8-o4vDFr CC-BY.svg\n",
            "Processing file 171OjDsTMC3UAz2TXtnHVOiyTCVj5i_FW database.hdf5\n",
            "Processing file 1enpY-pnfuNeh_F7qyF_KJqyAKM13x8Zh licence_CC-BY\n",
            "Processing file 1O0W9XPy8yc2Sbeo6GzkDCrwQT0SNlRu2 md5_sum\n",
            "Processing file 1OCaKQeBMMcJxPL30-EtDGolf6iZLQqVK README\n",
            "Processing file 1fVWjnzlkpniIW2xvdRwgzsxe5oxDENFk vtk_demo.py\n",
            "Retrieving folder 1LJA5TgEsiOGJ0uIt40mDu5FaluRjMg0o single\n",
            "Retrieving folder 1s5qelz6CpYIPGN0eXNMkropVtRVcd8iz raw\n",
            "Processing file 1QD0l1HOWiydFkPSj-_firro_l_xQfTm0 CC-BY.svg\n",
            "Processing file 1GU7_PaKt4oltGOTuG5VR02lPLmsBKcno database.hdf5\n",
            "Processing file 1I0vLTJxuBloBV0hQCDF3bU22Wlo02K2K licence_CC-BY\n",
            "Processing file 1UVQmtX02sIowHYXIultQOxuxQya_dQN- md5_sum\n",
            "Processing file 1tkw_PAhgnb6P7lm3BCWxKUi5DIbhix3c README\n",
            "Processing file 1s55VIPlCLy3q4Ckx_vmHvfN1-HNjAqSn vtk_demo.py\n",
            "Building directory structure completed\n"
          ]
        },
        {
          "output_type": "stream",
          "name": "stderr",
          "text": [
            "Retrieving folder list completed\n",
            "Building directory structure\n"
          ]
        },
        {
          "output_type": "error",
          "ename": "AttributeError",
          "evalue": "'NoneType' object has no attribute 'groups'",
          "traceback": [
            "\u001b[0;31m---------------------------------------------------------------------------\u001b[0m",
            "\u001b[0;31mAttributeError\u001b[0m                            Traceback (most recent call last)",
            "\u001b[0;32m<ipython-input-10-7830ec56adc5>\u001b[0m in \u001b[0;36m<cell line: 2>\u001b[0;34m()\u001b[0m\n\u001b[1;32m      1\u001b[0m \u001b[0murl\u001b[0m \u001b[0;34m=\u001b[0m \u001b[0;34m\"https://drive.google.com/drive/folders/1ebPXX8c9Du2ISMj5aGM98llI93vFMUnm?usp=drive_link\"\u001b[0m\u001b[0;34m\u001b[0m\u001b[0;34m\u001b[0m\u001b[0m\n\u001b[0;32m----> 2\u001b[0;31m \u001b[0mgdown\u001b[0m\u001b[0;34m.\u001b[0m\u001b[0mdownload_folder\u001b[0m\u001b[0;34m(\u001b[0m\u001b[0murl\u001b[0m\u001b[0;34m)\u001b[0m\u001b[0;34m\u001b[0m\u001b[0;34m\u001b[0m\u001b[0m\n\u001b[0m",
            "\u001b[0;32m/usr/local/lib/python3.10/dist-packages/gdown/download_folder.py\u001b[0m in \u001b[0;36mdownload_folder\u001b[0;34m(url, id, output, quiet, proxy, speed, use_cookies, remaining_ok)\u001b[0m\n",
            "\u001b[0;32m/usr/local/lib/python3.10/dist-packages/gdown/download.py\u001b[0m in \u001b[0;36mdownload\u001b[0;34m(url, output, quiet, proxy, speed, use_cookies, verify, id, fuzzy, resume)\u001b[0m\n\u001b[1;32m    185\u001b[0m         \u001b[0mis_gdrive_download_link\u001b[0m \u001b[0;34m=\u001b[0m \u001b[0;32mTrue\u001b[0m\u001b[0;34m\u001b[0m\u001b[0;34m\u001b[0m\u001b[0m\n\u001b[1;32m    186\u001b[0m \u001b[0;34m\u001b[0m\u001b[0m\n\u001b[0;32m--> 187\u001b[0;31m     \u001b[0;32mwhile\u001b[0m \u001b[0;32mTrue\u001b[0m\u001b[0;34m:\u001b[0m\u001b[0;34m\u001b[0m\u001b[0;34m\u001b[0m\u001b[0m\n\u001b[0m\u001b[1;32m    188\u001b[0m         \u001b[0mres\u001b[0m \u001b[0;34m=\u001b[0m \u001b[0msess\u001b[0m\u001b[0;34m.\u001b[0m\u001b[0mget\u001b[0m\u001b[0;34m(\u001b[0m\u001b[0murl\u001b[0m\u001b[0;34m,\u001b[0m \u001b[0mstream\u001b[0m\u001b[0;34m=\u001b[0m\u001b[0;32mTrue\u001b[0m\u001b[0;34m,\u001b[0m \u001b[0mverify\u001b[0m\u001b[0;34m=\u001b[0m\u001b[0mverify\u001b[0m\u001b[0;34m)\u001b[0m\u001b[0;34m\u001b[0m\u001b[0;34m\u001b[0m\u001b[0m\n\u001b[1;32m    189\u001b[0m \u001b[0;34m\u001b[0m\u001b[0m\n",
            "\u001b[0;31mAttributeError\u001b[0m: 'NoneType' object has no attribute 'groups'"
          ]
        }
      ]
    },
    {
      "cell_type": "code",
      "source": [
        "from google.colab import drive\n",
        "drive.mount('/content/drive')"
      ],
      "metadata": {
        "id": "myLb-yfDYV5u"
      },
      "execution_count": null,
      "outputs": []
    },
    {
      "cell_type": "code",
      "source": [
        "!unzip single.zip"
      ],
      "metadata": {
        "id": "7CwAGSMxRMOx",
        "colab": {
          "base_uri": "https://localhost:8080/"
        },
        "outputId": "846fd92b-1698-4da9-f115-a7dc66290030"
      },
      "execution_count": 8,
      "outputs": [
        {
          "output_type": "stream",
          "name": "stdout",
          "text": [
            "Archive:  single.zip\n",
            "   creating: single/\n",
            "   creating: single/raw/\n",
            "  inflating: single/raw/README       \n",
            "  inflating: single/raw/database.hdf5  \n",
            "  inflating: single/raw/CC-BY.svg    \n",
            "  inflating: single/raw/vtk_demo.py  \n",
            "  inflating: single/raw/md5_sum      \n",
            "  inflating: single/raw/licence_CC-BY  \n"
          ]
        }
      ]
    }
  ]
}