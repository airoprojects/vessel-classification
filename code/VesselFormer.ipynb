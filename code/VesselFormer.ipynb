{
  "nbformat": 4,
  "nbformat_minor": 0,
  "metadata": {
    "colab": {
      "provenance": [],
      "include_colab_link": true
    },
    "kernelspec": {
      "name": "python3",
      "display_name": "Python 3"
    },
    "language_info": {
      "name": "python"
    }
  },
  "cells": [
    {
      "cell_type": "markdown",
      "metadata": {
        "id": "view-in-github",
        "colab_type": "text"
      },
      "source": [
        "<a href=\"https://colab.research.google.com/github/airoprojects/vessel-classification/blob/main/code/VesselFormer.ipynb\" target=\"_parent\"><img src=\"https://colab.research.google.com/assets/colab-badge.svg\" alt=\"Open In Colab\"/></a>"
      ]
    },
    {
      "cell_type": "markdown",
      "source": [],
      "metadata": {
        "id": "wpCK2KMlXK5p"
      }
    },
    {
      "cell_type": "code",
      "source": [
        "!pip install --upgrade gdown"
      ],
      "metadata": {
        "colab": {
          "base_uri": "https://localhost:8080/"
        },
        "id": "0-6kMxXdXLJH",
        "outputId": "0385fab6-9d75-45ab-f694-362a092a409e"
      },
      "execution_count": 1,
      "outputs": [
        {
          "output_type": "stream",
          "name": "stdout",
          "text": [
            "Requirement already satisfied: gdown in /usr/local/lib/python3.10/dist-packages (4.7.3)\n",
            "Collecting gdown\n",
            "  Downloading gdown-5.1.0-py3-none-any.whl (17 kB)\n",
            "Requirement already satisfied: beautifulsoup4 in /usr/local/lib/python3.10/dist-packages (from gdown) (4.12.3)\n",
            "Requirement already satisfied: filelock in /usr/local/lib/python3.10/dist-packages (from gdown) (3.13.1)\n",
            "Requirement already satisfied: requests[socks] in /usr/local/lib/python3.10/dist-packages (from gdown) (2.31.0)\n",
            "Requirement already satisfied: tqdm in /usr/local/lib/python3.10/dist-packages (from gdown) (4.66.2)\n",
            "Requirement already satisfied: soupsieve>1.2 in /usr/local/lib/python3.10/dist-packages (from beautifulsoup4->gdown) (2.5)\n",
            "Requirement already satisfied: charset-normalizer<4,>=2 in /usr/local/lib/python3.10/dist-packages (from requests[socks]->gdown) (3.3.2)\n",
            "Requirement already satisfied: idna<4,>=2.5 in /usr/local/lib/python3.10/dist-packages (from requests[socks]->gdown) (3.6)\n",
            "Requirement already satisfied: urllib3<3,>=1.21.1 in /usr/local/lib/python3.10/dist-packages (from requests[socks]->gdown) (2.0.7)\n",
            "Requirement already satisfied: certifi>=2017.4.17 in /usr/local/lib/python3.10/dist-packages (from requests[socks]->gdown) (2024.2.2)\n",
            "Requirement already satisfied: PySocks!=1.5.7,>=1.5.6 in /usr/local/lib/python3.10/dist-packages (from requests[socks]->gdown) (1.7.1)\n",
            "Installing collected packages: gdown\n",
            "  Attempting uninstall: gdown\n",
            "    Found existing installation: gdown 4.7.3\n",
            "    Uninstalling gdown-4.7.3:\n",
            "      Successfully uninstalled gdown-4.7.3\n",
            "Successfully installed gdown-5.1.0\n"
          ]
        }
      ]
    },
    {
      "cell_type": "code",
      "execution_count": 2,
      "metadata": {
        "id": "MiOYxiIBQoDQ"
      },
      "outputs": [],
      "source": [
        "import gdown"
      ]
    },
    {
      "cell_type": "code",
      "source": [
        "# https://drive.google.com/drive/u/0/folders/1o34kRpwSsGAXhDw4K8eOXHce6JTIOQ18\n",
        "output_file = \"single.zip\"  # Replace \"data_file.ext\" with the desired output filename and extension\n",
        "gdown.download('https://drive.google.com/uc?id=1nzSdInny5VCi7PPT5EjsB8i1_QLbeOMu', output_file)"
      ],
      "metadata": {
        "colab": {
          "base_uri": "https://localhost:8080/",
          "height": 142
        },
        "id": "skEXa-CDdyB7",
        "outputId": "6d153a4c-825c-46cd-bcc0-c1bd2a5fbad0"
      },
      "execution_count": 3,
      "outputs": [
        {
          "output_type": "stream",
          "name": "stderr",
          "text": [
            "Downloading...\n",
            "From (original): https://drive.google.com/uc?id=1nzSdInny5VCi7PPT5EjsB8i1_QLbeOMu\n",
            "From (redirected): https://drive.usercontent.google.com/download?id=1nzSdInny5VCi7PPT5EjsB8i1_QLbeOMu&confirm=t&uuid=9e3d5be4-0c54-4245-a28f-9855cb88a08c\n",
            "To: /content/single.zip\n",
            "100%|██████████| 623M/623M [00:12<00:00, 49.6MB/s]\n"
          ]
        },
        {
          "output_type": "execute_result",
          "data": {
            "text/plain": [
              "'single.zip'"
            ],
            "application/vnd.google.colaboratory.intrinsic+json": {
              "type": "string"
            }
          },
          "metadata": {},
          "execution_count": 3
        }
      ]
    },
    {
      "cell_type": "code",
      "source": [
        "# https://drive.google.com/file/d/1RYCJyMXccTWCDMN8c_xrZMXu47gaSpvg/view?usp=sharing\n",
        "file_id = \"\"  # Replace this with your file's ID\n",
        "output_file = \"bifurcating.zip\"  # Replace \"data_file.ext\" with the desired output filename and extension\n",
        "gdown.download('https://drive.google.com/uc?id=1RYCJyMXccTWCDMN8c_xrZMXu47gaSpvg', output_file)"
      ],
      "metadata": {
        "colab": {
          "base_uri": "https://localhost:8080/",
          "height": 142
        },
        "id": "CO7EsYylebao",
        "outputId": "63a716bd-e5a6-462d-ee0e-c17c4f7d0c72"
      },
      "execution_count": 4,
      "outputs": [
        {
          "output_type": "stream",
          "name": "stderr",
          "text": [
            "Downloading...\n",
            "From (original): https://drive.google.com/uc?id=1RYCJyMXccTWCDMN8c_xrZMXu47gaSpvg\n",
            "From (redirected): https://drive.usercontent.google.com/download?id=1RYCJyMXccTWCDMN8c_xrZMXu47gaSpvg&confirm=t&uuid=231ed069-084c-463c-bfa6-237139f6a31a\n",
            "To: /content/bifurcating.zip\n",
            "100%|██████████| 1.18G/1.18G [00:22<00:00, 53.5MB/s]\n"
          ]
        },
        {
          "output_type": "execute_result",
          "data": {
            "text/plain": [
              "'bifurcating.zip'"
            ],
            "application/vnd.google.colaboratory.intrinsic+json": {
              "type": "string"
            }
          },
          "metadata": {},
          "execution_count": 4
        }
      ]
    },
    {
      "cell_type": "code",
      "source": [
        "!unzip single.zip\n",
        "!unzip bifurcating.zip"
      ],
      "metadata": {
        "id": "7CwAGSMxRMOx",
        "colab": {
          "base_uri": "https://localhost:8080/"
        },
        "outputId": "f639a224-2a47-48f9-ea58-dd0b446f270b"
      },
      "execution_count": 5,
      "outputs": [
        {
          "output_type": "stream",
          "name": "stdout",
          "text": [
            "Archive:  single.zip\n",
            "   creating: single/\n",
            "   creating: single/raw/\n",
            "  inflating: single/raw/README       \n",
            "  inflating: single/raw/database.hdf5  \n",
            "  inflating: single/raw/CC-BY.svg    \n",
            "  inflating: single/raw/vtk_demo.py  \n",
            "  inflating: single/raw/md5_sum      \n",
            "  inflating: single/raw/licence_CC-BY  \n",
            "Archive:  bifurcating.zip\n",
            "   creating: bifurcating/\n",
            "   creating: bifurcating/raw/\n",
            "  inflating: bifurcating/raw/database.hdf5  \n",
            "  inflating: bifurcating/raw/md5_sum  \n",
            "  inflating: bifurcating/raw/CC-BY.svg  \n",
            "  inflating: bifurcating/raw/README  \n",
            "  inflating: bifurcating/raw/vtk_demo.py  \n",
            "  inflating: bifurcating/raw/licence_CC-BY  \n"
          ]
        }
      ]
    },
    {
      "cell_type": "code",
      "source": [
        "!pip install -q torch_geometric vtk"
      ],
      "metadata": {
        "id": "-dJG3jRMIR_t",
        "outputId": "67fa6780-86fa-49ee-df49-560c790f56e8",
        "colab": {
          "base_uri": "https://localhost:8080/"
        }
      },
      "execution_count": 6,
      "outputs": [
        {
          "output_type": "stream",
          "name": "stdout",
          "text": [
            "\u001b[2K     \u001b[90m━━━━━━━━━━━━━━━━━━━━━━━━━━━━━━━━━━━━━━━━\u001b[0m \u001b[32m1.1/1.1 MB\u001b[0m \u001b[31m5.3 MB/s\u001b[0m eta \u001b[36m0:00:00\u001b[0m\n",
            "\u001b[2K     \u001b[90m━━━━━━━━━━━━━━━━━━━━━━━━━━━━━━━━━━━━━━━━\u001b[0m \u001b[32m92.0/92.0 MB\u001b[0m \u001b[31m1.4 MB/s\u001b[0m eta \u001b[36m0:00:00\u001b[0m\n",
            "\u001b[?25h"
          ]
        }
      ]
    },
    {
      "cell_type": "code",
      "source": [
        "import random\n",
        "\n",
        "import h5py\n",
        "import torch\n",
        "from torch_geometric.data import Data\n",
        "\n",
        "import vtk\n",
        "from vtk.util.numpy_support import numpy_to_vtk, numpy_to_vtkIdTypeArray\n",
        "import numpy as np\n",
        "\n",
        "\n",
        "def main():\n",
        "    vtu_writer = VTUWriter()\n",
        "    vtu_writer(\"random_sample.vtu\", hdf5_to_pyg(\"database.hdf5\", sample_id=random.randint(0, 1998)))\n",
        "\n",
        "\n",
        "def hdf5_to_pyg(path_to_hdf5, sample_id):\n",
        "\n",
        "    sample_name = f\"sample_{sample_id:04d}\"\n",
        "    with h5py.File(path_to_hdf5, 'r') as f:\n",
        "\n",
        "        # PyG Data object\n",
        "        data = Data(\n",
        "            wss=torch.from_numpy(f[sample_name]['wss'][()]),\n",
        "            pos=torch.from_numpy(f[sample_name]['pos'][()]),\n",
        "            face=torch.from_numpy(f[sample_name]['face'][()].T).long(),  # transpose to match PyG convention\n",
        "            inlet_index=torch.from_numpy(f[sample_name]['inlet_idcs'][()])  # name \"_index\" for correct batching\n",
        "        )\n",
        "\n",
        "    return data\n",
        "\n",
        "\n",
        "# Polygon data represented as PyG Data object to VTU file\n",
        "class VTUWriter():\n",
        "    def __init__(self):\n",
        "        self.vtu_writer = vtk.vtkXMLUnstructuredGridWriter()\n",
        "\n",
        "    def __call__(self, path_to_file, data):\n",
        "\n",
        "        self.vtu_writer.SetFileName(path_to_file)\n",
        "        self.vtu_writer.SetInputData(self.pyg_to_vtk(data))\n",
        "\n",
        "        self.vtu_writer.Update()\n",
        "\n",
        "    def pyg_to_vtk(self, data):\n",
        "        vtk_unstructured_grid = vtk.vtkUnstructuredGrid()\n",
        "\n",
        "        vtk_points = vtk.vtkPoints()\n",
        "        vtk_points.SetData(numpy_to_vtk(data.pos.numpy()))\n",
        "\n",
        "        vtk_cell_array = vtk.vtkCellArray()\n",
        "        vtk_cell_array.SetCells(data.face.shape[-1], numpy_to_vtkIdTypeArray(self.serialise_simplices(data.face)))\n",
        "\n",
        "        vtk_unstructured_grid.SetPoints(vtk_points)\n",
        "        vtk_unstructured_grid.SetCells(vtk.VTK_POLYGON, vtk_cell_array)\n",
        "\n",
        "        vtk_unstructured_grid = self.add_point_data(vtk_unstructured_grid, data)\n",
        "\n",
        "        return vtk_unstructured_grid\n",
        "\n",
        "    @staticmethod\n",
        "    def serialise_simplices(simplices):\n",
        "        simplices = simplices.t().numpy()  # (3, N) to (N, 3)\n",
        "\n",
        "        simplices = np.concatenate((\n",
        "            np.full(simplices.shape[0], simplices.shape[1])[:, None],\n",
        "            simplices\n",
        "        ), axis=-1)\n",
        "\n",
        "        return simplices.ravel()\n",
        "\n",
        "    def add_point_data(self, vtk_unstructured_grid, data):\n",
        "        for key, value in {**self.parse_point_data(data), **self.parse_point_indices(data)}.items():\n",
        "\n",
        "            array = numpy_to_vtk(value)\n",
        "            array.SetName(key)\n",
        "\n",
        "            vtk_unstructured_grid.GetPointData().AddArray(array)\n",
        "\n",
        "        return vtk_unstructured_grid\n",
        "\n",
        "    @staticmethod\n",
        "    def parse_point_data(data):\n",
        "        return {key: value for key, value in data if value.size(0) == data.pos.size(0) and key != 'pos'}\n",
        "\n",
        "    @staticmethod\n",
        "    def parse_point_indices(data):\n",
        "        point_mask_dict = {}\n",
        "\n",
        "        for key, value in data:\n",
        "            if \"_index\" in key and key != 'edge_index':\n",
        "\n",
        "                point_mask = np.zeros(data.pos.size(0), dtype='i4')\n",
        "                point_mask[value] = 1\n",
        "\n",
        "                point_mask_dict[key.replace(\"_index\", \"\")] = point_mask\n",
        "\n",
        "        return point_mask_dict\n"
      ],
      "metadata": {
        "id": "FJ826aEcLHc8"
      },
      "execution_count": 7,
      "outputs": []
    },
    {
      "cell_type": "code",
      "source": [
        "%cd /content"
      ],
      "metadata": {
        "id": "HjvxoxXzXTIE",
        "outputId": "477ebdcd-c5fd-47c5-ca69-261a21af9495",
        "colab": {
          "base_uri": "https://localhost:8080/"
        }
      },
      "execution_count": 17,
      "outputs": [
        {
          "output_type": "stream",
          "name": "stdout",
          "text": [
            "/content\n"
          ]
        }
      ]
    },
    {
      "cell_type": "code",
      "source": [
        "%cd bifurcating/raw/"
      ],
      "metadata": {
        "id": "LzctaSXgMTM2",
        "outputId": "6283e315-125a-4a61-b557-a55be7a6a5f2",
        "colab": {
          "base_uri": "https://localhost:8080/"
        }
      },
      "execution_count": 18,
      "outputs": [
        {
          "output_type": "stream",
          "name": "stdout",
          "text": [
            "/content/bifurcating/raw\n"
          ]
        }
      ]
    },
    {
      "cell_type": "code",
      "source": [
        "%cd single/raw/"
      ],
      "metadata": {
        "id": "7xMVQ4KWXSK5",
        "outputId": "26fe5303-32c9-472d-b782-76d03a4e89f1",
        "colab": {
          "base_uri": "https://localhost:8080/"
        }
      },
      "execution_count": 15,
      "outputs": [
        {
          "output_type": "stream",
          "name": "stdout",
          "text": [
            "/content/single/raw\n"
          ]
        }
      ]
    },
    {
      "cell_type": "code",
      "source": [
        "main()"
      ],
      "metadata": {
        "id": "rgiAwCIhMaRX"
      },
      "execution_count": 19,
      "outputs": []
    },
    {
      "cell_type": "code",
      "source": [],
      "metadata": {
        "id": "5LtV8TQ7XP3V"
      },
      "execution_count": null,
      "outputs": []
    }
  ]
}